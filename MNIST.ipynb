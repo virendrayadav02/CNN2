{
 "cells": [
  {
   "cell_type": "code",
   "execution_count": null,
   "id": "f0b3312f",
   "metadata": {},
   "outputs": [],
   "source": [
    "import tensorflow as tf\n",
    "from tensorflow.keras import layers , models\n",
    "from tensorflow.keras.datasets import mnist , cifar10\n",
    "from tensorflow.keras.utils import to_categorical\n",
    "from PIL import Image\n",
    "import matplotlib.pyplot as plt\n",
    "import numpy as np\n",
    "import warnings\n",
    "warnings.filterwarnings(\"ignore\")\n",
    "print (\"all set!!\")\n",
    "\n"
   ]
  },
  {
   "cell_type": "code",
   "execution_count": null,
   "id": "1f65b50b",
   "metadata": {},
   "outputs": [],
   "source": [
    "##load and preprocess\n",
    "\n"
   ]
  },
  {
   "cell_type": "code",
   "execution_count": null,
   "id": "16c7cb00",
   "metadata": {},
   "outputs": [],
   "source": [
    "train_image.shape, train_lables.shape"
   ]
  },
  {
   "cell_type": "code",
   "execution_count": null,
   "id": "51b5cb0f",
   "metadata": {},
   "outputs": [],
   "source": [
    "train_lables[0:8]"
   ]
  },
  {
   "cell_type": "code",
   "execution_count": null,
   "id": "a1372cd1",
   "metadata": {},
   "outputs": [],
   "source": [
    "def image_show(train_image,train_label,number):\n",
    "    plt.imshow(train_image[number])\n",
    "    plt.title(train_label[number])\n",
    "    plt.show()\n",
    "    "
   ]
  },
  {
   "cell_type": "code",
   "execution_count": null,
   "id": "5a01f779",
   "metadata": {},
   "outputs": [],
   "source": [
    "image_show(train_image=train_image,train_label=train_labels,number=22)"
   ]
  },
  {
   "cell_type": "code",
   "execution_count": null,
   "id": "c302f38e",
   "metadata": {},
   "outputs": [],
   "source": [
    "#noemalise pixel values to be b/w 0 to 1\\\n",
    "train_images,test_images = train_images/255.0,test_images/255.0\n",
    "type(train_images)"
   ]
  },
  {
   "cell_type": "code",
   "execution_count": null,
   "id": "8a0a04d6",
   "metadata": {},
   "outputs": [],
   "source": [
    "##EXPAND dimension to  add a channel (for grey scale images)\n",
    "\n",
    "train_images=train_images.reshape((60000,28,28,1))\n",
    "test_images=test_images.reshape((10000,28,28,1))"
   ]
  },
  {
   "cell_type": "code",
   "execution_count": null,
   "id": "7c53c080",
   "metadata": {},
   "outputs": [],
   "source": [
    "train_images[0].shape,test_images.shape"
   ]
  },
  {
   "cell_type": "code",
   "execution_count": null,
   "id": "ae6f1387",
   "metadata": {},
   "outputs": [],
   "source": [
    "##one - hot encoder the labels\n",
    "train_lables = to_categorical(train_lables)\n",
    "test_lables = to_categorical(test_lables)"
   ]
  },
  {
   "cell_type": "code",
   "execution_count": null,
   "id": "5e487ea3",
   "metadata": {},
   "outputs": [],
   "source": [
    "## model define\n",
    "\n",
    "model = model.sequential()\n",
    "\n",
    "model.add(layers.conv2D(32,(3,3),activation = \"relu\",input_shap = (28,28,1)))\n",
    "model.add(layers.MaxPooling2D((2,2)))\n",
    "\n",
    "model.add(layers.conv2D(64,(3,3),activation = \"relu\"))\n",
    "model.add(layers.MaxPooling2D((2,2)))\n",
    "\n",
    "model.add(layers.conv2D(64,(3,3)))\n",
    "\n",
    "model.add(layers.flatten())\n",
    "\n",
    "model.add(layers.Dense(64,activation=\"relu\"))\n",
    "model.add(layers.Dense(10,activation=\"softmax\"))\n",
    "\n",
    "##compile the model \n",
    "\n",
    "model.compile(optimizer = \"adam\",\n",
    "              loss = \"categorical_crossentropy\"\n",
    "              metrics = [\"accuracy\"])\n",
    "model.summary()"
   ]
  },
  {
   "cell_type": "code",
   "execution_count": null,
   "id": "2618d13d",
   "metadata": {},
   "outputs": [],
   "source": [
    "## train\n",
    "history = model.fit(train_images,\n",
    "                    train_lables,\n",
    "                    epochs = 5,\n",
    "                    batch_size = 64,\n",
    "                    validation_split = 0.2)"
   ]
  },
  {
   "cell_type": "code",
   "execution_count": null,
   "id": "c096a381",
   "metadata": {},
   "outputs": [],
   "source": [
    "# evalute the model on the testing data\n",
    "test_loss , test_acc = model.evaluate(test_images,test_lables)\n",
    "print(f\"Test Acc : {test_acc*100}\")"
   ]
  },
  {
   "cell_type": "code",
   "execution_count": null,
   "id": "b93a55e7",
   "metadata": {},
   "outputs": [],
   "source": [
    "# predictions              \n",
    "\n",
    "predictions = model.predict(test_images)\n",
    "predictions"
   ]
  },
  {
   "cell_type": "code",
   "execution_count": null,
   "id": "136b1259",
   "metadata": {},
   "outputs": [],
   "source": [
    "np.argmax(predictions,axis= 1)"
   ]
  },
  {
   "cell_type": "code",
   "execution_count": null,
   "id": "0b258de4",
   "metadata": {},
   "outputs": [],
   "source": []
  }
 ],
 "metadata": {
  "kernelspec": {
   "display_name": "Python 3",
   "language": "python",
   "name": "python3"
  },
  "language_info": {
   "codemirror_mode": {
    "name": "ipython",
    "version": 3
   },
   "file_extension": ".py",
   "mimetype": "text/x-python",
   "name": "python",
   "nbconvert_exporter": "python",
   "pygments_lexer": "ipython3",
   "version": "3.12.6"
  }
 },
 "nbformat": 4,
 "nbformat_minor": 5
}
